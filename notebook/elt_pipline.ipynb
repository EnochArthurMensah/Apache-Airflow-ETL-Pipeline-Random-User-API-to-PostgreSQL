{
 "cells": [
  {
   "cell_type": "code",
   "execution_count": 1,
   "id": "8f883486",
   "metadata": {},
   "outputs": [],
   "source": [
    "# importing the necessary libraries\n",
    "import pandas as pd\n",
    "from sqlalchemy import create_engine\n",
    "import requests\n",
    "from datetime import datetime, date\n",
    "from time import sleep"
   ]
  },
  {
   "cell_type": "markdown",
   "id": "b69bf206",
   "metadata": {},
   "source": [
    "### Extract Data from the API"
   ]
  },
  {
   "cell_type": "code",
   "execution_count": 2,
   "id": "63d2a142",
   "metadata": {},
   "outputs": [],
   "source": [
    "# extract function\n",
    "def extract(limit):\n",
    "    '''Extract data from random user API'''\n",
    "    try:\n",
    "        count=1\n",
    "        data=[]\n",
    "        header={'User-Agent':'Mozilla/5.0 (Windows NT 10.0; Win64; x64; rv:109.0) Gecko/20100101 Firefox/115.0'}\n",
    "        url='https://randomuser.me/api'\n",
    "        while count <= limit:\n",
    "            response=requests.get(url,header)\n",
    "            if response.status_code ==200:\n",
    "                response_json=response.json()\n",
    "                data.append(response_json)\n",
    "            else:\n",
    "                break\n",
    "            count +=1\n",
    "            sleep(1) # delay for a second before it loops through again\n",
    "    except Exception as e:\n",
    "        print(e)\n",
    "    return data    "
   ]
  },
  {
   "cell_type": "markdown",
   "id": "a9e959bb",
   "metadata": {},
   "source": [
    "### Transform the Data"
   ]
  },
  {
   "cell_type": "code",
   "execution_count": 3,
   "id": "5091c615",
   "metadata": {},
   "outputs": [],
   "source": [
    "# transform function\n",
    "def transform(data):\n",
    "    '''Create dataframe and perform some transformation on the dataframe '''\n",
    "    # creating an empty list \n",
    "    first_name=[]\n",
    "    last_name=[]\n",
    "    gender=[]\n",
    "    email=[]\n",
    "    dob=[]\n",
    "    country=[]\n",
    "    street_address=[]\n",
    "    city=[]\n",
    "    state=[]\n",
    "    postcode=[]\n",
    "    phone=[]\n",
    "    cell=[]\n",
    "    users={}\n",
    "    # loop through the data to get each user's record\n",
    "    try:\n",
    "        for user in data:\n",
    "            first_name.append(user['results'][0]['name']['first'])\n",
    "            last_name.append(user['results'][0]['name']['last'])\n",
    "            gender.append(user['results'][0]['gender'])\n",
    "            email.append(user['results'][0]['email'])\n",
    "            dob.append(((user['results'][0]['dob']['date'])[0:10]))\n",
    "            country.append(user['results'][0]['location']['country'])\n",
    "            street_number=(str(user['results'][0]['location']['street']['number']))\n",
    "            street_name=user['results'][0]['location']['street']['name']\n",
    "            street_address.append(street_number + ' ' + street_name)\n",
    "            city.append(user['results'][0]['location']['city'])\n",
    "            state.append(user['results'][0]['location']['state'])\n",
    "            postcode.append(user['results'][0]['location']['postcode'])\n",
    "            phone.append((user['results'][0]['phone']).replace('(','').replace(')','').replace(' ','-'))\n",
    "            cell.append((user['results'][0]['cell']).replace('(','').replace(')','').replace(' ','-'))\n",
    "            users={'first_name':first_name,'last_name':last_name,'gender':gender,'email':email,'date_of_birth':dob,'country':country,'street_address':street_address,'city':city,'state':state,'postcode':postcode,'phone':phone,'cell':cell}\n",
    "    except Exception as e:\n",
    "        print(e)\n",
    "    else:\n",
    "        # creating a dataframe \n",
    "        dataframe=pd.DataFrame(users) \n",
    "        # information about the dataframe\n",
    "        dataframe.info()\n",
    "        # dropping duplicates using the email column\n",
    "        dataframe.drop_duplicates(subset='email',inplace=True)\n",
    "        # converting column datatype from object to datetime64\n",
    "        dataframe['date_of_birth']=pd.to_datetime(dataframe['date_of_birth'])\n",
    "        return dataframe"
   ]
  },
  {
   "cell_type": "markdown",
   "id": "8f88a6d2",
   "metadata": {},
   "source": [
    "### Load the Data into PostgreSQL"
   ]
  },
  {
   "cell_type": "code",
   "execution_count": 4,
   "id": "5addcad0",
   "metadata": {},
   "outputs": [],
   "source": [
    "# load function()\n",
    "def load(dataframe,user_name,password,host,port,db_name):\n",
    "    '''Load the data into a database'''\n",
    "    try:\n",
    "        # creating connection to the database\n",
    "        engine=create_engine(f'postgresql://{user}:{password}@{host}:{port}/{db_name}')\n",
    "        conn=engine.connect()\n",
    "    except Exception as e:\n",
    "        print(e)\n",
    "    else: \n",
    "        # loading into the postgre database\n",
    "        dataframe.to_sql('user_records',con=engine,if_exists='append', index=False)\n",
    "    "
   ]
  }
 ],
 "metadata": {
  "kernelspec": {
   "display_name": "Python 3 (ipykernel)",
   "language": "python",
   "name": "python3"
  },
  "language_info": {
   "codemirror_mode": {
    "name": "ipython",
    "version": 3
   },
   "file_extension": ".py",
   "mimetype": "text/x-python",
   "name": "python",
   "nbconvert_exporter": "python",
   "pygments_lexer": "ipython3",
   "version": "3.11.4"
  }
 },
 "nbformat": 4,
 "nbformat_minor": 5
}
