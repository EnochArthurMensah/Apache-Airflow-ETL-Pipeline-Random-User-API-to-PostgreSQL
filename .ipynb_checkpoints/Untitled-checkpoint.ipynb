{
 "cells": [
  {
   "cell_type": "code",
   "execution_count": 1,
   "id": "8f883486",
   "metadata": {},
   "outputs": [],
   "source": [
    "# importing the necessary libraries\n",
    "import pandas as pd\n",
    "from sqlalchemy import create_engine\n",
    "import requests\n",
    "from datetime import datetime"
   ]
  },
  {
   "cell_type": "markdown",
   "id": "b69bf206",
   "metadata": {},
   "source": [
    "### Extract Data from the API"
   ]
  },
  {
   "cell_type": "code",
   "execution_count": 2,
   "id": "63d2a142",
   "metadata": {},
   "outputs": [],
   "source": [
    "count=1\n",
    "data=[]\n",
    "url='https://randomuser.me/api'\n",
    "while count <= 100:\n",
    "    response=requests.get(url)\n",
    "    response_json=response.json()\n",
    "    data.append(response_json)\n",
    "    count +=1"
   ]
  },
  {
   "cell_type": "code",
   "execution_count": null,
   "id": "4e24bd25",
   "metadata": {},
   "outputs": [],
   "source": []
  },
  {
   "cell_type": "code",
   "execution_count": 34,
   "id": "5091c615",
   "metadata": {},
   "outputs": [
    {
     "name": "stdout",
     "output_type": "stream",
     "text": [
      "<class 'pandas.core.frame.DataFrame'>\n",
      "RangeIndex: 100 entries, 0 to 99\n",
      "Data columns (total 12 columns):\n",
      " #   Column          Non-Null Count  Dtype \n",
      "---  ------          --------------  ----- \n",
      " 0   first_name      100 non-null    object\n",
      " 1   last_name       100 non-null    object\n",
      " 2   gender          100 non-null    object\n",
      " 3   email           100 non-null    object\n",
      " 4   date_of_birth   100 non-null    object\n",
      " 5   country         100 non-null    object\n",
      " 6   street_address  100 non-null    object\n",
      " 7   city            100 non-null    object\n",
      " 8   state           100 non-null    object\n",
      " 9   postcode        100 non-null    object\n",
      " 10  phone           100 non-null    object\n",
      " 11  cell            100 non-null    object\n",
      "dtypes: object(12)\n",
      "memory usage: 9.5+ KB\n",
      "<class 'pandas.core.frame.DataFrame'>\n",
      "RangeIndex: 100 entries, 0 to 99\n",
      "Data columns (total 12 columns):\n",
      " #   Column          Non-Null Count  Dtype         \n",
      "---  ------          --------------  -----         \n",
      " 0   first_name      100 non-null    object        \n",
      " 1   last_name       100 non-null    object        \n",
      " 2   gender          100 non-null    object        \n",
      " 3   email           100 non-null    object        \n",
      " 4   date_of_birth   100 non-null    datetime64[ns]\n",
      " 5   country         100 non-null    object        \n",
      " 6   street_address  100 non-null    object        \n",
      " 7   city            100 non-null    object        \n",
      " 8   state           100 non-null    object        \n",
      " 9   postcode        100 non-null    object        \n",
      " 10  phone           100 non-null    object        \n",
      " 11  cell            100 non-null    object        \n",
      "dtypes: datetime64[ns](1), object(11)\n",
      "memory usage: 9.5+ KB\n"
     ]
    }
   ],
   "source": [
    "# creating an empty list \n",
    "first_name=[]\n",
    "last_name=[]\n",
    "gender=[]\n",
    "email=[]\n",
    "dob=[]\n",
    "country=[]\n",
    "street_address=[]\n",
    "city=[]\n",
    "state=[]\n",
    "postcode=[]\n",
    "phone=[]\n",
    "cell=[]\n",
    "users={}\n",
    "try:\n",
    "    for user in data:\n",
    "        first_name.append(user['results'][0]['name']['first'])\n",
    "        last_name.append(user['results'][0]['name']['last'])\n",
    "        gender.append(user['results'][0]['gender'])\n",
    "        email.append(user['results'][0]['email'])\n",
    "        dob.append((user['results'][0]['dob']['date'])[0:10])\n",
    "        country.append(user['results'][0]['location']['country'])\n",
    "        street_number=(str(user['results'][0]['location']['street']['number']))\n",
    "        street_name=user['results'][0]['location']['street']['name']\n",
    "        street_address.append(street_number + ' ' + street_name)\n",
    "        city.append(user['results'][0]['location']['city'])\n",
    "        state.append(user['results'][0]['location']['state'])\n",
    "        postcode.append(user['results'][0]['location']['postcode'])\n",
    "        phone.append(user['results'][0]['phone'])\n",
    "        cell.append(user['results'][0]['cell'])\n",
    "        users={'first_name':first_name,'last_name':last_name,'gender':gender,'email':email,'date_of_birth':dob,'country':country,'street_address':street_address,'city':city,'state':state,'postcode':postcode,'phone':phone,'cell':cell}\n",
    "except Exception as e:\n",
    "    print(e)\n",
    "else:\n",
    "    # creating a dataframe \n",
    "    dataframe=pd.DataFrame(users) \n",
    "    # information about the dataframe\n",
    "    dataframe.info()\n",
    "    # dropping duplicates using the email column\n",
    "    dataframe.drop_duplicates(subset='email',inplace=True)\n",
    "    # converting column datatype from object to datetime64\n",
    "    dataframe['date_of_birth']=pd.to_datetime(dataframe['date_of_birth'])\n",
    "    dataframe.info()"
   ]
  },
  {
   "cell_type": "code",
   "execution_count": null,
   "id": "401f7031",
   "metadata": {},
   "outputs": [],
   "source": []
  },
  {
   "cell_type": "code",
   "execution_count": null,
   "id": "5addcad0",
   "metadata": {},
   "outputs": [],
   "source": []
  },
  {
   "cell_type": "code",
   "execution_count": null,
   "id": "d23ba0e9",
   "metadata": {},
   "outputs": [],
   "source": []
  }
 ],
 "metadata": {
  "kernelspec": {
   "display_name": "Python 3 (ipykernel)",
   "language": "python",
   "name": "python3"
  },
  "language_info": {
   "codemirror_mode": {
    "name": "ipython",
    "version": 3
   },
   "file_extension": ".py",
   "mimetype": "text/x-python",
   "name": "python",
   "nbconvert_exporter": "python",
   "pygments_lexer": "ipython3",
   "version": "3.11.4"
  }
 },
 "nbformat": 4,
 "nbformat_minor": 5
}
